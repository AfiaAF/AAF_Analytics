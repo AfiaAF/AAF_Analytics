{
 "cells": [
  {
   "cell_type": "markdown",
   "id": "1971db0e",
   "metadata": {},
   "source": [
    "### Q1\n",
    "List the basic data types in python and give one example each."
   ]
  },
  {
   "cell_type": "raw",
   "id": "87d8c4da-1df5-472a-b573-3a9eaceac231",
   "metadata": {},
   "source": [
    "1) Integer, e.g. 45\n",
    "2) String, e.g. \"basic\"\n",
    "3) Float, e.g. 21.6\n",
    "4) Boolean, e.g. True"
   ]
  },
  {
   "cell_type": "markdown",
   "id": "4a2be5ba",
   "metadata": {},
   "source": [
    "### Q2\n",
    "Change the variable x = 4539.85 to :\n",
    "\n",
    "(i) a string and assign it to a new variable y,\n",
    "\n",
    "(ii) an integer and assign it to a new variable z\n",
    "\n",
    "Print out the type of y and z."
   ]
  },
  {
   "cell_type": "code",
   "execution_count": 3,
   "id": "4f69aaca",
   "metadata": {},
   "outputs": [
    {
     "name": "stdout",
     "output_type": "stream",
     "text": [
      "<class 'str'>\n",
      "<class 'int'>\n"
     ]
    }
   ],
   "source": [
    "x = 4539.85\n",
    "y = str(x)\n",
    "print(type(y))\n",
    "z = int(x)\n",
    "print(type(z))"
   ]
  },
  {
   "cell_type": "markdown",
   "id": "81a1251c",
   "metadata": {},
   "source": [
    "### Q3\n",
    "\n",
    "What data type would you use to store\n",
    "\n",
    "a. The price of car?\n",
    "\n",
    "b. The age of a person\n",
    "\n",
    "c. car plate number: plateNumber = \"AV01-AFP\"?\n",
    "\n",
    "d. The price of fuel\n",
    "\n",
    "e. The number of students in the class\n",
    "\n",
    "f. The weight of a person\n",
    "\n",
    "g. Check whether two figures are equal\n",
    "\n",
    "i. The name of a  school\n",
    "\n",
    "j. The average result of the overall score of a student\n",
    "\n",
    "k. The total number of vote cast\n",
    "\n"
   ]
  },
  {
   "cell_type": "raw",
   "id": "1305a6de-671e-49c7-8c5d-34e45cf6ab60",
   "metadata": {},
   "source": [
    "a. The price of car : Float\n",
    "\n",
    "b. The age of a person : Integer\n",
    "\n",
    "c. car plate number: plateNumber = \"AV01-AFP\" : String\n",
    "\n",
    "d. The price of fuel : Float\n",
    "\n",
    "e. The number of students in the class : Integer\n",
    "\n",
    "f. The weight of a person : Float\n",
    "\n",
    "g. Check whether two figures are equal : Boolean\n",
    "\n",
    "i. The name of a  school : String\n",
    "\n",
    "j. The average result of the overall score of a student : Float\n",
    "\n",
    "k. The total number of vote cast : Integer"
   ]
  },
  {
   "cell_type": "markdown",
   "id": "c33e3cd7-4247-4f2c-b359-8ae95b669de1",
   "metadata": {},
   "source": [
    "### Q4\n",
    "**Thomas Partey is arguably the best player in the Black Stars. He is a great addition to the team**\n",
    "\n",
    "Split the statement above into **two statement_1** and **statement_2** such that statement_1 will be 'Thomas Partey is arguably the best player in the Black Stars' and statement_2 will be 'He is a great addition to the team'\n",
    "\n",
    "Statement:\n",
    "\n",
    "- **What is the length of statment 1?**\n",
    "-**What is the length of statment 2?**\n",
    "-**Is the length of statement 1 greater than statement 2**"
   ]
  },
  {
   "cell_type": "code",
   "execution_count": 60,
   "id": "0c0d3c5e-da9a-4a98-979f-e5813f7a3f37",
   "metadata": {},
   "outputs": [
    {
     "name": "stdout",
     "output_type": "stream",
     "text": [
      "['Thomas Partey is arguably the best player in the Black Stars', ' He is a great addition to the team']\n",
      "60\n",
      "34\n",
      "True\n"
     ]
    }
   ],
   "source": [
    "statement = \"Thomas Partey is arguably the best player in the Black Stars. He is a great addition to the team\"\n",
    "print(statement.split('.'))\n",
    "statement_1 = \"Thomas Partey is arguably the best player in the Black Stars\"\n",
    "statement_2 = \"He is a great addition to the team\"\n",
    "StateLength1 = len(statement_1)\n",
    "print(StateLength1)\n",
    "StateLength2 = len(statement_2)\n",
    "print(StateLength2)\n",
    "print(StateLength1 > StateLength2)"
   ]
  },
  {
   "cell_type": "markdown",
   "id": "ceb46447",
   "metadata": {},
   "source": [
    "### Q5\n",
    "What values does python use to represent **True** and **False** respectively?"
   ]
  },
  {
   "cell_type": "raw",
   "id": "582cc9b0-3354-4711-b71e-22b33493dee5",
   "metadata": {},
   "source": [
    "True = 1\n",
    "False = 0"
   ]
  },
  {
   "cell_type": "markdown",
   "id": "e4cc9b15",
   "metadata": {},
   "source": [
    "### Q6\n",
    "Write a code to evaluate if the following statments are True or False.\n",
    "\n",
    "1. 78 is greater than 46 and less than 30 which is an odd number.\n",
    "\n",
    "2. 8-2 is an even number or 8 is a is an odd number.\n",
    "\n",
    "3. The number of characters in the word 'boostrap' is 7 and that of 'sample' is 6."
   ]
  },
  {
   "cell_type": "code",
   "execution_count": 76,
   "id": "0b0cb5b3-23bc-4ca4-ab5e-c7fc23097613",
   "metadata": {},
   "outputs": [
    {
     "name": "stdin",
     "output_type": "stream",
     "text": [
      "78 is greater than 46 and less than 30 which is an odd number. 78>46 and 78<30\n"
     ]
    },
    {
     "name": "stdout",
     "output_type": "stream",
     "text": [
      "False\n"
     ]
    },
    {
     "name": "stdin",
     "output_type": "stream",
     "text": [
      "8-2 is an even number or 8 is a is an odd number. (8-2)%2==0 or 8%2==0\n"
     ]
    },
    {
     "name": "stdout",
     "output_type": "stream",
     "text": [
      "True\n"
     ]
    },
    {
     "name": "stdin",
     "output_type": "stream",
     "text": [
      "The number of characters in the word 'boostrap' is 7 and that of 'sample' is 6. len(\"boostrap\")==7 and len(\"sample\")==6\n"
     ]
    },
    {
     "name": "stdout",
     "output_type": "stream",
     "text": [
      "False\n"
     ]
    }
   ],
   "source": [
    "one = \"78 is greater than 46 and less than 30 which is an odd number.\"\n",
    "ans1 = eval(input(one))\n",
    "print(ans1)\n",
    "two = \"8-2 is an even number or 8 is a is an odd number.\"\n",
    "ans2 = eval(input(two))\n",
    "print(ans2)\n",
    "three = \"The number of characters in the word 'boostrap' is 7 and that of 'sample' is 6.\"\n",
    "ans3 = eval(input(three))\n",
    "print(ans3)"
   ]
  },
  {
   "cell_type": "markdown",
   "id": "bc13f9fc",
   "metadata": {},
   "source": [
    "### Q7\n",
    "Given the following python code,\n",
    "\n",
    "`word='Hello, How are you?'`\n",
    "\n",
    "Write Python code to return the following\n",
    "\n",
    "- How\n",
    "- How are you\n",
    "- are\n",
    "- ?\n",
    "- Hello, How are you\n",
    "\n",
    "\n",
    " "
   ]
  },
  {
   "cell_type": "code",
   "execution_count": 41,
   "id": "57ad53d8-8c6d-4fa8-a7a1-3f03536e5b3d",
   "metadata": {},
   "outputs": [
    {
     "name": "stdout",
     "output_type": "stream",
     "text": [
      "How \n",
      "How are you\n",
      "are \n",
      "?\n",
      "Hello, How are you\n"
     ]
    }
   ],
   "source": [
    "word = \"Hello, How are you?\"\n",
    "print(word[7:11])\n",
    "print(word[7:18])\n",
    "print(word[11:15])\n",
    "print(word[-1])\n",
    "print(word[0:18])"
   ]
  },
  {
   "cell_type": "markdown",
   "id": "e4167de5",
   "metadata": {},
   "source": [
    "### Q8\n",
    "Given the following python code,\n",
    "\n",
    "`sentence = \"I am very excited\"`\n",
    "\n",
    "Write Python code to return \n",
    "- Convert sentence to upper case\n",
    "- Convert sentence to lower case\n",
    "- Convert sentence to title case\n",
    "- Convert sentence to list of strings\n",
    " "
   ]
  },
  {
   "cell_type": "code",
   "execution_count": 39,
   "id": "31a73e1b-a53b-4d83-806a-487ff8c1cf82",
   "metadata": {},
   "outputs": [
    {
     "name": "stdout",
     "output_type": "stream",
     "text": [
      "I AM VERY EXCITED\n",
      "i am very excited\n",
      "I Am Very Excited\n",
      "['I', 'am', 'very', 'excited']\n"
     ]
    }
   ],
   "source": [
    "sentence = \"I am very excited\"\n",
    "print(sentence.upper())\n",
    "print(sentence.lower())\n",
    "print(sentence.title())\n",
    "print(sentence.split())"
   ]
  },
  {
   "cell_type": "markdown",
   "id": "4faf0134",
   "metadata": {},
   "source": [
    "### Q9\n",
    "`word = 'OneThirtyEight'`\n",
    "\n",
    "Using Python code extract the following from the variable word:\n",
    "- One\n",
    "- Thirty\n",
    "- Eight\n",
    "- OneThirty\n",
    "- ThirtyEight\n",
    "- ONETHIRTYEIGHT"
   ]
  },
  {
   "cell_type": "code",
   "execution_count": 29,
   "id": "f6f8f717-90b0-475c-a09e-48b8a83ae528",
   "metadata": {},
   "outputs": [
    {
     "name": "stdout",
     "output_type": "stream",
     "text": [
      "One\n",
      "Thirty\n",
      "Eight\n",
      "OneThirty\n",
      "ThirtyEight\n",
      "ONETHIRTYEIGHT\n"
     ]
    }
   ],
   "source": [
    "word = \"OneThirtyEight\"\n",
    "print(word[0:3])\n",
    "print(word[3:9])\n",
    "print(word[-5:])\n",
    "print(word[0:9])\n",
    "print(word[-11:])\n",
    "print(word.upper())"
   ]
  },
  {
   "cell_type": "markdown",
   "id": "2a4eea1f",
   "metadata": {},
   "source": [
    "### Q10\n",
    "Turn Ault'Kelly into a string and assign it to a variable  called name."
   ]
  },
  {
   "cell_type": "code",
   "execution_count": 37,
   "id": "aa2f0a08",
   "metadata": {},
   "outputs": [
    {
     "name": "stdout",
     "output_type": "stream",
     "text": [
      "Ault'Kelly\n"
     ]
    }
   ],
   "source": [
    "name = \"Ault'Kelly\"\n",
    "print(name)"
   ]
  }
 ],
 "metadata": {
  "kernelspec": {
   "display_name": "Python 3 (ipykernel)",
   "language": "python",
   "name": "python3"
  },
  "language_info": {
   "codemirror_mode": {
    "name": "ipython",
    "version": 3
   },
   "file_extension": ".py",
   "mimetype": "text/x-python",
   "name": "python",
   "nbconvert_exporter": "python",
   "pygments_lexer": "ipython3",
   "version": "3.12.4"
  }
 },
 "nbformat": 4,
 "nbformat_minor": 5
}
