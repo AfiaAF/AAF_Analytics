{
 "cells": [
  {
   "cell_type": "markdown",
   "id": "c981861e",
   "metadata": {},
   "source": [
    "# Q1\n",
    "Write a code to display a list of the first 12 multiples of 8 using a for loop\n"
   ]
  },
  {
   "cell_type": "code",
   "execution_count": 120,
   "id": "3efd98f7-4248-4972-89ce-f4a3724fa3a5",
   "metadata": {},
   "outputs": [
    {
     "name": "stdout",
     "output_type": "stream",
     "text": [
      "[8, 16, 24, 32, 40, 48, 56, 64, 72, 80, 88, 96]\n"
     ]
    }
   ],
   "source": [
    "multiples8 = [a*8 for a in range(1,13)]\n",
    "print(multiples8)"
   ]
  },
  {
   "cell_type": "markdown",
   "id": "d9f7d0f9",
   "metadata": {},
   "source": [
    "# Q2\n",
    "Write the code to print sum of all even numbers from 1 to 201"
   ]
  },
  {
   "cell_type": "code",
   "execution_count": 236,
   "id": "c268dd51-9fcf-42eb-bb9c-c35e310a9477",
   "metadata": {},
   "outputs": [
    {
     "name": "stdout",
     "output_type": "stream",
     "text": [
      "10100\n"
     ]
    }
   ],
   "source": [
    "sum_of_even = 0\n",
    "for i in range (1,202):\n",
    "    if i%2 == 0:\n",
    "        sum_of_even += i\n",
    "print(sum_of_even)"
   ]
  },
  {
   "cell_type": "markdown",
   "id": "4f0f12d7",
   "metadata": {},
   "source": [
    "# Q3\n",
    "`my_list = [3, 5, 7, 12, 41]`\n",
    "\n",
    "Write the code to display the list of the squares of each number in my list\n",
    "\n",
    "- Without using list comprehension\n",
    "- Using list comprehension\n"
   ]
  },
  {
   "cell_type": "code",
   "execution_count": 169,
   "id": "dee27768-f8e8-420d-af20-7a417d3f4a20",
   "metadata": {},
   "outputs": [
    {
     "name": "stdout",
     "output_type": "stream",
     "text": [
      "[9, 25, 49, 144, 1681]\n"
     ]
    }
   ],
   "source": [
    "# squares of each number using list comprehension\n",
    "my_list = [3, 5, 7, 12, 41]\n",
    "squares = [i**2 for i in my_list]\n",
    "print(squares)"
   ]
  },
  {
   "cell_type": "code",
   "execution_count": 167,
   "id": "94ddcb9b-d05d-4c18-86e2-dec36c455886",
   "metadata": {},
   "outputs": [
    {
     "name": "stdout",
     "output_type": "stream",
     "text": [
      "[9, 25, 49, 144, 1681]\n"
     ]
    }
   ],
   "source": [
    "# squares of each number without list comprehension\n",
    "my_list = [3, 5, 7, 12, 41]\n",
    "squares = []\n",
    "for i in my_list:\n",
    "    squares.append(i **2)\n",
    "print(squares)"
   ]
  },
  {
   "cell_type": "markdown",
   "id": "28bed149",
   "metadata": {},
   "source": [
    "# Q4\n",
    "`my_list1 = [3, 53,47, 22, 53, 78, 12, 41]`\n",
    "\n",
    "Calculate the average of my_list1\n",
    "\n",
    "- Without using sum and len fucnctions\n",
    "- Using sum and len functions\n"
   ]
  },
  {
   "cell_type": "code",
   "execution_count": 171,
   "id": "0665bddc-5300-4ea8-a669-3ed3433f9a0c",
   "metadata": {},
   "outputs": [
    {
     "name": "stdout",
     "output_type": "stream",
     "text": [
      "38.625\n"
     ]
    }
   ],
   "source": [
    "# Average of my_list1 without sum and len functions\n",
    "my_list1 = [3, 53, 47, 22, 53, 78, 12, 41]\n",
    "\n",
    "total_of_list1= 0\n",
    "count_of_list1= 0\n",
    "#for loop in list1\n",
    "for number in my_list1:\n",
    "    total_of_list1+=number\n",
    "    count_of_list1+=1\n",
    "    \n",
    "average = total_of_list1/count_of_list1\n",
    "print(average)"
   ]
  },
  {
   "cell_type": "code",
   "execution_count": 173,
   "id": "af86f95a-1b27-465a-97d1-34c831343899",
   "metadata": {},
   "outputs": [
    {
     "name": "stdout",
     "output_type": "stream",
     "text": [
      "38.625\n"
     ]
    }
   ],
   "source": [
    "# Average of my_list1 using sum and len functions\n",
    "my_list1 = [3, 53, 47, 22, 53, 78, 12, 41]\n",
    "\n",
    "total = 0\n",
    "count = 0\n",
    "#for loop in list1\n",
    "for i in my_list1:\n",
    "    total += i\n",
    "count = len(my_list1)\n",
    "\n",
    "average = total/count\n",
    "print(average)"
   ]
  },
  {
   "cell_type": "markdown",
   "id": "38c1ddff",
   "metadata": {},
   "source": [
    "# Q4\n",
    "\n",
    "Write a Python program to guess a number between 1 and 9.\n",
    "User is prompted to enter a guess. If the user guesses wrong then the prompt appears again until the guess is correct, on successful guess, user will get a \"Well guessed!\" message, and the program will exit."
   ]
  },
  {
   "cell_type": "code",
   "execution_count": 224,
   "id": "5012fc58-70f8-4f84-9b8e-afeb081f6134",
   "metadata": {},
   "outputs": [
    {
     "name": "stdin",
     "output_type": "stream",
     "text": [
      "Guess a number between 1 and 9:  2\n",
      "Guess a number between 1 and 9:  5\n"
     ]
    },
    {
     "name": "stdout",
     "output_type": "stream",
     "text": [
      "Well guessed\n"
     ]
    }
   ],
   "source": [
    "#using while loop\n",
    "while True:\n",
    "    number_guess = int(input(\"Guess a number between 1 and 9: \"))\n",
    "    if number_guess==5:\n",
    "     print(\"Well guessed\")\n",
    "     break\n",
    " #else:\n",
    "    # number_guess=int(input(\"Guess a number between 1 and 9: \"))\n",
    "             "
   ]
  },
  {
   "cell_type": "markdown",
   "id": "f5c02baa",
   "metadata": {},
   "source": [
    "# Q5\n",
    "Write a Python program to construct the following pattern.\n",
    "\n",
    "`*` \n",
    "\n",
    "`* *` \n",
    "\n",
    "`* * *` \n",
    "\n",
    "`* * * *` \n",
    "\n",
    "`* * * * *`"
   ]
  },
  {
   "cell_type": "code",
   "execution_count": 177,
   "id": "6b0492b3-fd7e-4cf3-a312-3e30b236b7f3",
   "metadata": {},
   "outputs": [
    {
     "name": "stdout",
     "output_type": "stream",
     "text": [
      "*\n",
      "**\n",
      "***\n",
      "****\n",
      "*****\n"
     ]
    }
   ],
   "source": [
    "sterisk = \"*\"\n",
    "for i in range(1,6):\n",
    "    print(sterisk*i)"
   ]
  },
  {
   "cell_type": "markdown",
   "id": "e85d94df",
   "metadata": {},
   "source": [
    "# Q6\n",
    "\n",
    "Write a Python program that accepts a word from the user and reverses it."
   ]
  },
  {
   "cell_type": "code",
   "execution_count": 181,
   "id": "51d2c866-517e-43b4-b890-6e1a2d4b738d",
   "metadata": {},
   "outputs": [
    {
     "name": "stdin",
     "output_type": "stream",
     "text": [
      "Enter a word for reversal:  input\n"
     ]
    },
    {
     "name": "stdout",
     "output_type": "stream",
     "text": [
      "tupni\n"
     ]
    }
   ],
   "source": [
    "input_user=input(\"Enter a word for reversal: \")\n",
    "print(input_user[::-1])"
   ]
  },
  {
   "cell_type": "markdown",
   "id": "5fe06511",
   "metadata": {},
   "source": [
    "# Q7\n",
    "Write a Python program that accepts a word from the user and reverses it."
   ]
  },
  {
   "cell_type": "code",
   "execution_count": 185,
   "id": "18899a1d-6fcb-4a79-ad49-45b82c6f432d",
   "metadata": {},
   "outputs": [
    {
     "name": "stdin",
     "output_type": "stream",
     "text": [
      "Enter a word for reversal:  word\n"
     ]
    },
    {
     "name": "stdout",
     "output_type": "stream",
     "text": [
      "drow\n"
     ]
    }
   ],
   "source": [
    "input_user=input(\"Enter a word for reversal: \")\n",
    "print(input_user[::-1])"
   ]
  },
  {
   "cell_type": "markdown",
   "id": "5a99d4b3",
   "metadata": {},
   "source": [
    "# Q8\n",
    "\n",
    "`lst = [3,4,5,4,7,8,5,8,3,6,8,9,11]`\n",
    "\n",
    "Write a Python program to count the number of even and odd numbers in the above list of numbers.\n",
    "\n",
    "**Expected output should be in this format**\n",
    "\n",
    "{\"Even\" : num_of_even, \"Odd\": num_of_odd}"
   ]
  },
  {
   "cell_type": "code",
   "execution_count": 191,
   "id": "5e74942c-5bea-4ddd-b782-8f06bee168a3",
   "metadata": {},
   "outputs": [
    {
     "name": "stdout",
     "output_type": "stream",
     "text": [
      "{'Even': 6, 'Odd': 7}\n"
     ]
    }
   ],
   "source": [
    "lst = [3,4,5,4,7,8,5,8,3,6,8,9,11]\n",
    "num_of_even=0\n",
    "num_of_odd=0\n",
    "for d in lst:\n",
    "    if d%2==0:\n",
    "        num_of_even+=1\n",
    "    else:\n",
    "        num_of_odd+=1\n",
    "print({\"Even\": num_of_even, \"Odd\": num_of_odd})"
   ]
  },
  {
   "cell_type": "markdown",
   "id": "c92b54f9",
   "metadata": {},
   "source": [
    "# Q9\n",
    " Write a Python program that iterates the integers from 1 to 50. For multiples of three print \"Fizz\" instead of the number and for multiples of five print \"Buzz\". For numbers that are multiples of three and five, print \"FizzBuzz\".\n",
    "Sample Output :\n",
    "1\n",
    "\n",
    "2\n",
    "\n",
    "fizz\n",
    "\n",
    "4\n",
    "\n",
    "buzz"
   ]
  },
  {
   "cell_type": "code",
   "execution_count": 193,
   "id": "c935d80a-3be0-4cc6-92aa-77ae53ef1f5a",
   "metadata": {},
   "outputs": [
    {
     "name": "stdout",
     "output_type": "stream",
     "text": [
      "1\n",
      "2\n",
      "Fizz\n",
      "4\n",
      "Buzz\n",
      "Fizz\n",
      "7\n",
      "8\n",
      "Fizz\n",
      "Buzz\n",
      "11\n",
      "Fizz\n",
      "13\n",
      "14\n",
      "Fizz\n",
      "16\n",
      "17\n",
      "Fizz\n",
      "19\n",
      "Buzz\n",
      "Fizz\n",
      "22\n",
      "23\n",
      "Fizz\n",
      "Buzz\n",
      "26\n",
      "Fizz\n",
      "28\n",
      "29\n",
      "Fizz\n",
      "31\n",
      "32\n",
      "Fizz\n",
      "34\n",
      "Buzz\n",
      "Fizz\n",
      "37\n",
      "38\n",
      "Fizz\n",
      "Buzz\n",
      "41\n",
      "Fizz\n",
      "43\n",
      "44\n",
      "Fizz\n",
      "46\n",
      "47\n",
      "Fizz\n",
      "49\n",
      "Buzz\n"
     ]
    }
   ],
   "source": [
    "for number in range(1,51):\n",
    "    if number%3==0:\n",
    "        print(\"Fizz\")\n",
    "    elif number%5==0:\n",
    "        print(\"Buzz\")\n",
    "    elif number%3==0 and number%5==0:\n",
    "        print(\"FizzBuzz\")\n",
    "    else:\n",
    "        print(number)"
   ]
  },
  {
   "cell_type": "markdown",
   "id": "8d3505cf",
   "metadata": {},
   "source": [
    "# Q10\n",
    " Write a Python program to find the median of three values inputs from the user"
   ]
  },
  {
   "cell_type": "code",
   "execution_count": 199,
   "id": "284f864b-a86c-45a5-8c7b-17b28bcf8535",
   "metadata": {},
   "outputs": [
    {
     "name": "stdin",
     "output_type": "stream",
     "text": [
      "Enter a number:  8\n",
      "Enter a number:  3\n",
      "Enter a number:  5\n"
     ]
    },
    {
     "name": "stdout",
     "output_type": "stream",
     "text": [
      "[3, 5, 8]\n",
      "5\n"
     ]
    }
   ],
   "source": [
    "u_input1=int(input(\"Enter a number: \"))\n",
    "u_input2=int(input(\"Enter a number: \"))\n",
    "u_input3=int(input(\"Enter a number: \"))\n",
    "values=[u_input1, u_input2, u_input3]\n",
    "#Sort the 3 values in numerical order and find the median using indexing i.e. index 1\n",
    "arranged_values=sorted(values)\n",
    "print(arranged_values)\n",
    "print(arranged_values[1])"
   ]
  },
  {
   "cell_type": "markdown",
   "id": "9ef4f8a2",
   "metadata": {},
   "source": [
    "# Q11\n",
    "Write a Python program to calculate the sum and average of n integer numbers (input from the user). Input 0 to finish."
   ]
  },
  {
   "cell_type": "code",
   "execution_count": 300,
   "id": "3269d081-fead-4bf1-8f16-92679265543a",
   "metadata": {},
   "outputs": [
    {
     "name": "stdin",
     "output_type": "stream",
     "text": [
      "Enter any number:  2\n",
      "Enter any number:  5\n",
      "Enter any number:  8\n",
      "Enter any number:  0\n"
     ]
    },
    {
     "name": "stdout",
     "output_type": "stream",
     "text": [
      "Sum of Integers:  15\n",
      "Integer Average:  5.0\n"
     ]
    }
   ],
   "source": [
    "total_integers = 0\n",
    "integers_count = 0\n",
    "while True:\n",
    "    number = int(input(\"Enter any number: \"))\n",
    "    if number ==0:\n",
    "        break\n",
    "    total_integers+=number\n",
    "    integers_count+=1\n",
    "    if integers_count>0:\n",
    "        integers_average = total_integers/integers_count\n",
    "    else:\n",
    "        average=0\n",
    "print(\"Sum of Integers: \", total_integers)\n",
    "print(\"Integer Average: \", integers_average)"
   ]
  },
  {
   "cell_type": "code",
   "execution_count": null,
   "id": "f378eccf-73c0-4fbe-9023-6a5d3f89438b",
   "metadata": {},
   "outputs": [],
   "source": []
  },
  {
   "cell_type": "markdown",
   "id": "45f5c335",
   "metadata": {},
   "source": [
    "# Q12\n",
    " Write a Python program to create the multiplication table (from 1 to 12) of a number input from a user.\n",
    " \n",
    " Expected Output:\n",
    "\n",
    "Input a number: 6                                                       \n",
    "6 x 1 = 6                                                               \n",
    "6 x 2 = 12                                                              \n",
    "6 x 3 = 18                                                              \n",
    "6 x 4 = 24                                                              \n",
    "6 x 5 = 30                                                              \n",
    "6 x 6 = 36                                                              \n",
    "6 x 7 = 42                                                              \n",
    "6 x 8 = 48                                                              \n",
    "6 x 9 = 54                                                              \n",
    "6 x 10 = 60 \n",
    "\n",
    "6 x 11 = 66\n",
    "\n",
    "6 x 12 = 72"
   ]
  },
  {
   "cell_type": "code",
   "execution_count": 203,
   "id": "ba6d4559-7e22-4163-9188-dae9c88b9eb0",
   "metadata": {},
   "outputs": [
    {
     "name": "stdin",
     "output_type": "stream",
     "text": [
      "Input a number:  5\n"
     ]
    },
    {
     "name": "stdout",
     "output_type": "stream",
     "text": [
      "5 x 1 = 5\n",
      "5 x 2 = 10\n",
      "5 x 3 = 15\n",
      "5 x 4 = 20\n",
      "5 x 5 = 25\n",
      "5 x 6 = 30\n",
      "5 x 7 = 35\n",
      "5 x 8 = 40\n",
      "5 x 9 = 45\n",
      "5 x 10 = 50\n",
      "5 x 11 = 55\n",
      "5 x 12 = 60\n"
     ]
    }
   ],
   "source": [
    "UserInput=int(input(\"Input a number: \"))\n",
    "for q in range(1,13):\n",
    "    print(f'{UserInput} x {q} = {UserInput*q}')"
   ]
  },
  {
   "cell_type": "markdown",
   "id": "8cc97048",
   "metadata": {},
   "source": [
    "# Q13\n",
    "Write a Python program to construct the following pattern\n",
    "\n",
    "1\n",
    "\n",
    "22\n",
    "\n",
    "333\n",
    "\n",
    "4444\n",
    "\n",
    "55555\n",
    "\n",
    "666666\n",
    "\n",
    "7777777\n",
    "\n",
    "88888888\n",
    "\n",
    "999999999"
   ]
  },
  {
   "cell_type": "code",
   "execution_count": 211,
   "id": "cf597891-9edf-46bb-8911-d753b517d44d",
   "metadata": {},
   "outputs": [
    {
     "name": "stdout",
     "output_type": "stream",
     "text": [
      "1\n",
      "22\n",
      "333\n",
      "4444\n",
      "55555\n",
      "666666\n",
      "7777777\n",
      "88888888\n",
      "999999999\n"
     ]
    }
   ],
   "source": [
    "for r in range(1,10):\n",
    "    print(r*str(r))"
   ]
  },
  {
   "cell_type": "markdown",
   "id": "adef967a",
   "metadata": {},
   "source": [
    "# Q14\n",
    "Print sum of all odd numbers from 10 to 50"
   ]
  },
  {
   "cell_type": "code",
   "execution_count": 244,
   "id": "729ed19f-d01d-4eb6-ac5d-73e8ae609ffc",
   "metadata": {},
   "outputs": [
    {
     "name": "stdout",
     "output_type": "stream",
     "text": [
      "600\n"
     ]
    }
   ],
   "source": [
    "sum_of_odd = 0\n",
    "for i in range (10,51):\n",
    "    if i%2 != 0:\n",
    "        sum_of_odd += i\n",
    "print(sum_of_odd)"
   ]
  },
  {
   "cell_type": "markdown",
   "id": "1642ec1a",
   "metadata": {},
   "source": [
    "# Q15\n",
    "\n",
    "`my_list = [25, 100, 121, 400, 81]`\n",
    "\n",
    "Write the code to display the list of the square root of each number in my list\n",
    "\n",
    "- Without using list comprehension\n",
    "- Using list comprehension"
   ]
  },
  {
   "cell_type": "code",
   "execution_count": 264,
   "id": "be3f0615",
   "metadata": {},
   "outputs": [
    {
     "name": "stdout",
     "output_type": "stream",
     "text": [
      "[5.0, 10.0, 11.0, 20.0, 9.0]\n"
     ]
    }
   ],
   "source": [
    "#without list comprehension\n",
    "my_list = [25, 100, 121, 400, 81]\n",
    "sqroot_list=[]\n",
    "for i in my_list:\n",
    "    sqroot_list.append(i**0.5)\n",
    "print(sqroot_list)"
   ]
  },
  {
   "cell_type": "code",
   "execution_count": 256,
   "id": "b4b17185-09a7-4e3e-a057-203b3e3eda46",
   "metadata": {},
   "outputs": [
    {
     "name": "stdout",
     "output_type": "stream",
     "text": [
      "[5.0, 10.0, 11.0, 20.0, 9.0]\n"
     ]
    }
   ],
   "source": [
    "#using list comprehension\n",
    "my_list = [25, 100, 121, 400, 81]\n",
    "sqroot_list=[i**0.5 for i in my_list]\n",
    "print(sqroot_list)"
   ]
  },
  {
   "cell_type": "code",
   "execution_count": null,
   "id": "11db8b6f-9cb6-46e9-b2d1-359a449e970c",
   "metadata": {},
   "outputs": [],
   "source": []
  }
 ],
 "metadata": {
  "kernelspec": {
   "display_name": "Python 3 (ipykernel)",
   "language": "python",
   "name": "python3"
  },
  "language_info": {
   "codemirror_mode": {
    "name": "ipython",
    "version": 3
   },
   "file_extension": ".py",
   "mimetype": "text/x-python",
   "name": "python",
   "nbconvert_exporter": "python",
   "pygments_lexer": "ipython3",
   "version": "3.12.4"
  }
 },
 "nbformat": 4,
 "nbformat_minor": 5
}
