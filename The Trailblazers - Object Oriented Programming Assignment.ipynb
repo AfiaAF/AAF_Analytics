{
 "cells": [
  {
   "cell_type": "markdown",
   "id": "c02c73ae-6d0e-4f28-a590-d8a19e35d19d",
   "metadata": {},
   "source": [
    "## Object Oriented Programming(OOP) Assignment"
   ]
  },
  {
   "cell_type": "raw",
   "id": "ffc064ce-04f4-47ef-91be-67ae5370fd54",
   "metadata": {},
   "source": [
    "by Abigail Larkai\n",
    "Afia Asamoah-Frimpong\n",
    "Daniel Adjei Asenso\n",
    "Margolda Bosu\n",
    "Orthancia Bajola"
   ]
  },
  {
   "cell_type": "markdown",
   "id": "d43b691b-e304-452c-b969-1e510fe8d1da",
   "metadata": {},
   "source": [
    "#### For the purpose of this Assignment, we used the example of running a household item store or engaging in product sales for our Classes and Objects, where \"Product\" is the class."
   ]
  },
  {
   "cell_type": "raw",
   "id": "dbb37f36-6d86-4165-afa9-917d38d24098",
   "metadata": {},
   "source": [
    "Create a class Product\n",
    "\n",
    "Examples of Oven, Curtains, Kettle are instances of the class Product\n",
    "\n",
    "The category and description of the product are attributes of the products.\n",
    "\n",
    "The methods of the class product can be discount method, or stock check."
   ]
  },
  {
   "cell_type": "code",
   "execution_count": 1,
   "id": "a2c03d9a-b700-4ae7-b537-b7a0abca5767",
   "metadata": {},
   "outputs": [],
   "source": [
    "## The __init__ method is used to initialize the attributes of the Class \"Product\" "
   ]
  },
  {
   "cell_type": "code",
   "execution_count": 58,
   "id": "485ff30c-d52b-43b9-a861-ebc33ce58118",
   "metadata": {},
   "outputs": [],
   "source": [
    "class Product:\n",
    "    def __init__(self, name, price, quantity_remaining, category, description):\n",
    "        self.name = name\n",
    "        self.price = price\n",
    "        self.quantity_remaining = quantity_remaining\n",
    "        self.category = category\n",
    "        self.description = description"
   ]
  },
  {
   "cell_type": "code",
   "execution_count": null,
   "id": "050adae0-8bc2-4fae-b079-3bbd3cb475aa",
   "metadata": {},
   "outputs": [],
   "source": [
    "##  Definitions of attributes for the objects below"
   ]
  },
  {
   "cell_type": "code",
   "execution_count": 60,
   "id": "10bb528e-b841-45d2-b530-97f38ffc3d93",
   "metadata": {},
   "outputs": [],
   "source": [
    "    sofa = Product(\"Sofa\", 499.99, 1, \"Furniture\", \"A comfortable sofa for the living room.\")\n",
    "    dining_table = Product(\"Dining Table\", 299.99, 1, \"Furniture\", \"A wooden dining table that seats six.\")\n",
    "    coffee_maker = Product(\"Coffee Maker\", 79.99, 2, \"Appliances\", \"A drip coffee maker for fresh brews.\")\n",
    "    microwave = Product(\"Microwave\", 149.99, 1, \"Appliances\", \"A countertop microwave for quick meals.\")\n",
    "    blender = Product(\"Blender\", 59.99, 1, \"Appliances\", \"A high-speed blender for smoothies.\")\n",
    "    broom = Product(\"Broom\", 15.99, 3, \"Cleaning\", \"A standard broom for sweeping floors.\")\n",
    "    dishwasher = Product(\"Dishwasher\", 649.99, 1, \"Appliances\", \"A built-in dishwasher for easy cleaning.\")\n",
    "    mattress = Product(\"Mattress\", 499.99, 1, \"Furniture\", \"A comfortable queen-sized mattress.\")\n",
    "    refrigerator = Product(\"Refrigerator\", 799.99, 1, \"Appliances\", \"A large refrigerator with a freezer compartment.\")\n",
    "    television = Product(\"Television\", 599.99, 1, \"Electronics\", \"A 55-inch smart TV with 4K resolution.\")\n",
    "    gardenhose = Product(\"Garden Hose\", 25.99, 2, \"Outdoor\", \"A flexible garden hose for watering plants.\")\n",
    "    iron = Product(\"Iron\", 39.99, 2, \"Appliances\", \"A steam iron for wrinkle-free clothes.\")\n",
    "    toaster = Product(\"Toaster\", 29.99, 2, \"Appliances\", \"A two-slice toaster for breakfast.\")\n",
    "    kettle = Product(\"Kettle\", 39.99, 1, \"Appliances\", \"An electric kettle for boiling water.\")\n",
    "    desk = Product(\"Desk\", 199.99, 1, \"Furniture\", \"A wooden desk for home office use.\")\n",
    "    chair = Product(\"Chair\", 89.99, 4, \"Furniture\", \"An ergonomic office chair.\")\n",
    "    curtains = Product(\"Curtains\", 49.99, 4, \"Home Decor\", \"Light-blocking curtains for privacy.\")\n",
    "    rug = Product(\"Rug\", 149.99, 2, \"Home Decor\", \"A soft area rug for the living room.\")\n"
   ]
  },
  {
   "cell_type": "code",
   "execution_count": 13,
   "id": "af3d4083-4f02-4fe2-b952-ebe7422932ac",
   "metadata": {},
   "outputs": [
    {
     "data": {
      "text/plain": [
       "'Toaster'"
      ]
     },
     "execution_count": 13,
     "metadata": {},
     "output_type": "execute_result"
    }
   ],
   "source": [
    "toaster.name"
   ]
  },
  {
   "cell_type": "code",
   "execution_count": 21,
   "id": "ff04cdc8-ef65-43f1-a594-6636ca194d83",
   "metadata": {},
   "outputs": [
    {
     "data": {
      "text/plain": [
       "29.99"
      ]
     },
     "execution_count": 21,
     "metadata": {},
     "output_type": "execute_result"
    }
   ],
   "source": [
    "toaster.price"
   ]
  },
  {
   "cell_type": "code",
   "execution_count": 23,
   "id": "eede654a-3174-4c3a-880f-c6eff1c8ea68",
   "metadata": {},
   "outputs": [
    {
     "data": {
      "text/plain": [
       "2"
      ]
     },
     "execution_count": 23,
     "metadata": {},
     "output_type": "execute_result"
    }
   ],
   "source": [
    "toaster.quantity_remaining"
   ]
  },
  {
   "cell_type": "code",
   "execution_count": 25,
   "id": "3c5113a9-dc86-428e-9802-7e544c7cd481",
   "metadata": {},
   "outputs": [
    {
     "data": {
      "text/plain": [
       "'Appliances'"
      ]
     },
     "execution_count": 25,
     "metadata": {},
     "output_type": "execute_result"
    }
   ],
   "source": [
    "toaster.category"
   ]
  },
  {
   "cell_type": "code",
   "execution_count": 27,
   "id": "48616050-5e98-415b-aa6a-c6a7d0b441cb",
   "metadata": {},
   "outputs": [
    {
     "data": {
      "text/plain": [
       "'A two-slice toaster for breakfast.'"
      ]
     },
     "execution_count": 27,
     "metadata": {},
     "output_type": "execute_result"
    }
   ],
   "source": [
    "toaster.description"
   ]
  },
  {
   "cell_type": "code",
   "execution_count": 25,
   "id": "240bae5f-9c19-4d54-9a6d-eae037e061cb",
   "metadata": {},
   "outputs": [],
   "source": [
    "###  check_stock method to check remaining quantities of objects under class Product\n",
    "###  restock method to check remaining quantities of objects under class Product\n",
    "\n",
    "class Product:\n",
    "    def __init__(self, name, price, quantity_remaining, category, description, rating):\n",
    "        self.name = name\n",
    "        self.price = price\n",
    "        self.quantity_remaining = quantity_remaining\n",
    "        self.category = category\n",
    "        self.description = description\n",
    "        self.rating = rating\n",
    "      \n",
    "\n",
    "    def restock(self, amount):\n",
    "        self.quantity_remaining += amount\n",
    "\n",
    "    def check_stock(self):\n",
    "        if self.quantity_remaining <= 0:\n",
    "            return f\"{self.name} is sold out.\"\n",
    "        else:\n",
    "            return f\"{self.name} is in stock. Quantity: {self.quantity_remaining}\"\n",
    "\n",
    "    def __str__(self):\n",
    "        return f\"{self.name} ({self.category}): ${self.price}, Stock: {self.quantity_remaining}\"\n"
   ]
  },
  {
   "cell_type": "code",
   "execution_count": 27,
   "id": "94d6d1be-4f0b-4d7e-b29d-c1b38933bd64",
   "metadata": {},
   "outputs": [],
   "source": [
    "# Creating an instance of Product\n",
    "mattress = Product(\"Mattress\", 499.99, 1, \"Furniture\", \"A comfortable queen-sized mattress.\", 3.0)\n",
    "dining_table = Product(\"Dining Table\", 299.99, 1, \"Furniture\", \"A wooden dining table that seats six.\", 4.2)\n",
    "refrigerator = Product(\"Refrigerator\", 799.99, 1, \"Appliances\", \"A large refrigerator with a freezer compartment.\", 4.7)\n",
    "television = Product(\"Television\", 599.99, 0, \"Electronics\", \"A 55-inch smart TV with 4K resolution.\", 3.8)"
   ]
  },
  {
   "cell_type": "code",
   "execution_count": 29,
   "id": "3ea440be-4c08-4d2d-943d-584c572e2712",
   "metadata": {},
   "outputs": [
    {
     "name": "stdout",
     "output_type": "stream",
     "text": [
      "Television is sold out.\n"
     ]
    }
   ],
   "source": [
    "## check_stock Method: This method checks the quantity of the product. If quantity is less than or equal to 0, it returns that the product is sold out. \n",
    "## Otherwise, it indicates that the product is in stock and shows the available quantity.\n",
    "\n",
    "# Checking stock\n",
    "print(television.check_stock())"
   ]
  },
  {
   "cell_type": "code",
   "execution_count": 31,
   "id": "7ef5f371-d4a6-4398-a08e-0ba131f21c47",
   "metadata": {},
   "outputs": [],
   "source": [
    "# Restocking the product\n",
    "television.restock(5)"
   ]
  },
  {
   "cell_type": "code",
   "execution_count": 36,
   "id": "edc84969-7262-406d-920d-ef1b97520b36",
   "metadata": {},
   "outputs": [
    {
     "name": "stdout",
     "output_type": "stream",
     "text": [
      "Television is in stock. Quantity: 5\n"
     ]
    }
   ],
   "source": [
    "# Checking stock again\n",
    "print(television.check_stock()) "
   ]
  },
  {
   "cell_type": "code",
   "execution_count": 33,
   "id": "7bbdc51f-255b-4664-b922-67228b1ce8dd",
   "metadata": {},
   "outputs": [
    {
     "name": "stdout",
     "output_type": "stream",
     "text": [
      "Television (Electronics): $599.99, Stock: 5\n"
     ]
    }
   ],
   "source": [
    "print(television)"
   ]
  },
  {
   "cell_type": "markdown",
   "id": "3622cf13-2ce9-42ec-b92b-815f726677c3",
   "metadata": {},
   "source": [
    "## str method"
   ]
  },
  {
   "cell_type": "code",
   "execution_count": null,
   "id": "bc73370c-5a56-4413-9c3b-34e1e9919f9d",
   "metadata": {},
   "outputs": [],
   "source": [
    "## This method returns a string representation of an object"
   ]
  },
  {
   "cell_type": "code",
   "execution_count": 65,
   "id": "9e61e4de-cd22-4e3c-bf64-9122f3dadc9c",
   "metadata": {},
   "outputs": [],
   "source": [
    "class Product:\n",
    "    def __init__(self, name, price, quantity_remaining, category, description):\n",
    "        self.name = name\n",
    "        self.price = price\n",
    "        self.quantity_remaining = quantity_remaining\n",
    "        self.category = category\n",
    "        self.description = description\n",
    "    \n",
    "    def __str__(self):\n",
    "        return f\"There are {self.quantity_remaining} pieces of {self.name} left\""
   ]
  },
  {
   "cell_type": "code",
   "execution_count": null,
   "id": "39dfd5e7-af9f-4b13-8fc6-561eb522b01b",
   "metadata": {},
   "outputs": [],
   "source": [
    "## Example of string method being used"
   ]
  },
  {
   "cell_type": "code",
   "execution_count": 67,
   "id": "ce1b2fc1-c8c3-4520-8d7a-e82b65246360",
   "metadata": {},
   "outputs": [],
   "source": [
    "curtains = Product(\"Curtains\", 49.99, 4, \"Home Decor\", \"Light-blocking curtains for privacy.\")\n",
    "rug = Product(\"Rug\", 149.99, 2, \"Home Decor\", \"A soft area rug for the living room.\")"
   ]
  },
  {
   "cell_type": "code",
   "execution_count": 69,
   "id": "3e8ea7d6-375e-408f-8fac-3f0ad8da976b",
   "metadata": {},
   "outputs": [
    {
     "name": "stdout",
     "output_type": "stream",
     "text": [
      "There are 2 pieces of Rug left\n"
     ]
    }
   ],
   "source": [
    "print(rug)"
   ]
  },
  {
   "cell_type": "markdown",
   "id": "45da8586-3118-4844-96f5-cfd508d4bbf0",
   "metadata": {},
   "source": [
    "## Encapsulation"
   ]
  },
  {
   "cell_type": "code",
   "execution_count": null,
   "id": "bb8ffb2f-b9f2-46f4-b73a-489faba3a27e",
   "metadata": {},
   "outputs": [],
   "source": [
    "## Encapsulation is the bundling of data and methods that operate on that data within one unit, restricting access to some of the object's components.\n",
    "## This uses private type and public type modifiers\n",
    "## Example of Public attributes or methods from the code below is \"self.price = price\", which can be accessed from anywhere in the program\n",
    "## Example of Private attributes or methods from the code below is \"self.__rating = rating\", which can only be accessed from within the class itself \n",
    "## and hence returns an error if run normally as a public attribute or method."
   ]
  },
  {
   "cell_type": "code",
   "execution_count": 71,
   "id": "037c01a9-1ef3-49fb-ad3c-a02723460232",
   "metadata": {},
   "outputs": [],
   "source": [
    "class Product:\n",
    "    pass"
   ]
  },
  {
   "cell_type": "code",
   "execution_count": 5,
   "id": "66abb377-e317-417c-9a65-166dcb6fb187",
   "metadata": {},
   "outputs": [],
   "source": [
    "class Product:\n",
    "    def __init__(self, name, price, quantity_remaining, category, description, rating):\n",
    "        self.name = name\n",
    "        self.price = price\n",
    "        self.quantity_remaining = quantity_remaining\n",
    "        self.category = category\n",
    "        self.description = description\n",
    "        self.__rating = rating\n",
    "\n",
    "    def get_rating(self):\n",
    "        return self.__rating"
   ]
  },
  {
   "cell_type": "code",
   "execution_count": 7,
   "id": "13b3b63c-16d9-4e65-bdcb-1dce8b21e97a",
   "metadata": {},
   "outputs": [],
   "source": [
    "sofa = Product(\"Sofa\", 499.99, 1, \"Furniture\", \"A comfortable sofa for the living room.\", 4.5)\n",
    "dining_table = Product(\"Dining Table\", 299.99, 1, \"Furniture\", \"A wooden dining table that seats six.\", 4.0)\n",
    "coffee_maker = Product(\"Coffee Maker\", 79.99, 2, \"Appliances\", \"A drip coffee maker for fresh brews.\", 5.0)"
   ]
  },
  {
   "cell_type": "code",
   "execution_count": 113,
   "id": "37340883-fd7f-481b-a3f2-3d990d324262",
   "metadata": {},
   "outputs": [
    {
     "data": {
      "text/plain": [
       "'Furniture'"
      ]
     },
     "execution_count": 113,
     "metadata": {},
     "output_type": "execute_result"
    }
   ],
   "source": [
    "sofa.category"
   ]
  },
  {
   "cell_type": "code",
   "execution_count": 11,
   "id": "26b22696-d40c-47fd-acfa-f5dad2c6774c",
   "metadata": {},
   "outputs": [
    {
     "ename": "AttributeError",
     "evalue": "'Product' object has no attribute 'rating'",
     "output_type": "error",
     "traceback": [
      "\u001b[1;31m---------------------------------------------------------------------------\u001b[0m",
      "\u001b[1;31mAttributeError\u001b[0m                            Traceback (most recent call last)",
      "Cell \u001b[1;32mIn[11], line 1\u001b[0m\n\u001b[1;32m----> 1\u001b[0m \u001b[38;5;28mprint\u001b[39m(coffee_maker\u001b[38;5;241m.\u001b[39mrating)\n",
      "\u001b[1;31mAttributeError\u001b[0m: 'Product' object has no attribute 'rating'"
     ]
    }
   ],
   "source": [
    "print(coffee_maker.rating)"
   ]
  },
  {
   "cell_type": "code",
   "execution_count": 95,
   "id": "c6ae3940-621f-49d6-9190-06503dc284f5",
   "metadata": {},
   "outputs": [
    {
     "data": {
      "text/plain": [
       "5.0"
      ]
     },
     "execution_count": 95,
     "metadata": {},
     "output_type": "execute_result"
    }
   ],
   "source": [
    "coffee_maker.get_rating()"
   ]
  },
  {
   "cell_type": "markdown",
   "id": "701ecdf8-a021-4d90-9629-f44e35d8dd27",
   "metadata": {},
   "source": [
    "## Python Inheritance"
   ]
  },
  {
   "cell_type": "code",
   "execution_count": null,
   "id": "4b63fea7-01e3-4903-bf3b-a4a5d66040b2",
   "metadata": {},
   "outputs": [],
   "source": [
    "## Inheritance allows one class (child class) to inherit attributes and methods from another class (parent class).\n",
    "## In this case below, class \"Appliances\" (child class) inherited attributes such as price, quantity, and category from class \"Product\" (parent class)\n",
    "## The super() function was also used below to indicate the atttributes inherited by the child class."
   ]
  },
  {
   "cell_type": "code",
   "execution_count": 175,
   "id": "2e2f5bdc-7d71-4914-a3de-53cfa85ee7d0",
   "metadata": {},
   "outputs": [],
   "source": [
    "class Product:\n",
    "    def __init__(self, name, price, quantity_remaining, category, description):\n",
    "        self.name = name\n",
    "        self.price = price\n",
    "        self.quantity_remaining = quantity_remaining\n",
    "        self.category = category\n",
    "        self.description = description"
   ]
  },
  {
   "cell_type": "code",
   "execution_count": 177,
   "id": "06f6f1f7-20ab-4081-8cfc-0d99046c0601",
   "metadata": {},
   "outputs": [],
   "source": [
    "class Appliances(Product):\n",
    "    def __init__(self, name, price, quantity, category, description, warranty_period):\n",
    "        super().__init__(name, price, quantity, category, description)\n",
    "        self.warranty_period = warranty_period"
   ]
  },
  {
   "cell_type": "code",
   "execution_count": 179,
   "id": "b4f7a505-749d-43b3-8684-707275030ec6",
   "metadata": {},
   "outputs": [],
   "source": [
    "microwave = Appliances(\"Microwave\", 149.99, 1, \"Appliances\", \"A countertop microwave for quick meals.\", 2)\n",
    "blender = Appliances(\"Blender\", 59.99, 1, \"Appliances\", \"A high-speed blender for smoothies.\", 3)"
   ]
  },
  {
   "cell_type": "code",
   "execution_count": 181,
   "id": "ca491253-2e99-4506-b73e-2503b2787b29",
   "metadata": {},
   "outputs": [
    {
     "data": {
      "text/plain": [
       "3"
      ]
     },
     "execution_count": 181,
     "metadata": {},
     "output_type": "execute_result"
    }
   ],
   "source": [
    "blender.warranty_period"
   ]
  },
  {
   "cell_type": "markdown",
   "id": "b2ddec9d-428c-405b-89c9-550ff41a8dbf",
   "metadata": {},
   "source": [
    "## Python Polymorphism"
   ]
  },
  {
   "cell_type": "code",
   "execution_count": 88,
   "id": "f186bcf7-56e4-456d-96f1-25c99002eff0",
   "metadata": {},
   "outputs": [
    {
     "data": {
      "text/plain": [
       "11"
      ]
     },
     "execution_count": 88,
     "metadata": {},
     "output_type": "execute_result"
    }
   ],
   "source": [
    "## Polymorphism allows methods to do different things based on the object it is acting upon.\n",
    "\n",
    "\n",
    "## For strings len() returns the number of characters:\n",
    "letters = \"compartment\"\n",
    "len(letters)"
   ]
  },
  {
   "cell_type": "code",
   "execution_count": 90,
   "id": "da3449eb-a146-4213-8abb-e1e38c40d8ab",
   "metadata": {},
   "outputs": [
    {
     "data": {
      "text/plain": [
       "4"
      ]
     },
     "execution_count": 90,
     "metadata": {},
     "output_type": "execute_result"
    }
   ],
   "source": [
    "## For tuples len() returns the number of items in the tuple:\n",
    "items = tuple((\"coffee_maker\", \"blender\", \"television\", \"chair\"))\n",
    "\n",
    "len(items)"
   ]
  },
  {
   "cell_type": "code",
   "execution_count": null,
   "id": "69c75529-d674-4371-b38f-d52a1a3fa249",
   "metadata": {},
   "outputs": [],
   "source": []
  },
  {
   "cell_type": "markdown",
   "id": "3759d2ca-6a0c-482a-960b-a4958f0d2147",
   "metadata": {},
   "source": [
    "## Class Polymorphism"
   ]
  },
  {
   "cell_type": "code",
   "execution_count": 74,
   "id": "819df031-9b6a-4312-acf2-70dcec942bf0",
   "metadata": {},
   "outputs": [
    {
     "name": "stdout",
     "output_type": "stream",
     "text": [
      "Television (Electronics): $599.99, Stock: 1\n"
     ]
    }
   ],
   "source": [
    "## This occurs when different classes share the same method name.\n",
    "\n",
    "class Electronics(Product):\n",
    "    def __init__(self, name, price, quantity, description):\n",
    "        super().__init__(name, price, quantity, \"Electronics\", description)\n",
    "\n",
    "    def __str__(self):\n",
    "        return f\"{self.name} ({self.category}): ${self.price}, Stock: {self.quantity_remaining}\"\n",
    "\n",
    "\n",
    "# Example Usage\n",
    "television = Electronics(\"Television\", 599.99, 1, \"A 55-inch smart TV with 4K resolution.\")\n",
    "print(television)  # Uses the __str__ method from Product"
   ]
  },
  {
   "cell_type": "markdown",
   "id": "61e962ca-c991-44b2-9516-9da4db6049c8",
   "metadata": {},
   "source": [
    "## Inheritance Class Polymorphism"
   ]
  },
  {
   "cell_type": "code",
   "execution_count": 84,
   "id": "cbc905e8-1344-4791-b460-d1ddf3aa8ea4",
   "metadata": {},
   "outputs": [
    {
     "name": "stdout",
     "output_type": "stream",
     "text": [
      "Dining Table (Furniture): $299.99, Stock: 2\n"
     ]
    }
   ],
   "source": [
    "## This allows methods in the child class to override methods in the parent class.\n",
    "\n",
    "class Furniture(Product):\n",
    "    def __str__(self):\n",
    "        return f\"{self.name} ({self.category}): ${self.price}, Stock: {self.quantity_remaining}\"\n",
    "\n",
    "# Example Usage\n",
    "dining_table = Furniture(\"Dining Table\", 299.99, 2, \"Furniture\", \"A wooden dining table that seats six.\")\n",
    "print(dining_table)"
   ]
  },
  {
   "cell_type": "markdown",
   "id": "7e4d9e4d-f74a-4a42-bab1-44edc4460749",
   "metadata": {},
   "source": [
    "## Python Modules"
   ]
  },
  {
   "cell_type": "code",
   "execution_count": 76,
   "id": "3e2a581d-3e39-44ea-8236-e35aec54b853",
   "metadata": {},
   "outputs": [
    {
     "name": "stdout",
     "output_type": "stream",
     "text": [
      "products_module.py has been created.\n"
     ]
    }
   ],
   "source": [
    "## You can create a module named products_module.py to define and manage products.\n",
    "\n",
    "# products_module.py\n",
    "#Save this code in a file named product_module.py\n",
    "code = \"\"\"\n",
    "class Product:\n",
    "    def __init__(self, name, price, quantity, category, description):\n",
    "        self.name = name\n",
    "        self.price = price\n",
    "        self.quantity = quantity\n",
    "        self.category = category\n",
    "        self.description = description\n",
    "\n",
    "\n",
    "def greeting(category):\n",
    "    print(f'I heard you were looking for {category} ...')\n",
    "\n",
    "def followup(name):\n",
    "    print(f'Is it a(an) {name} ?')\n",
    "\"\"\"\n",
    "\n",
    "# Specify the name of the new file or module\n",
    "file_name = \"products_module.py\"\n",
    "\n",
    "# Create and write to the .py file\n",
    "with open(file_name, \"w\") as file:\n",
    "    file.write(code)\n",
    "\n",
    "print(f\"{file_name} has been created.\")"
   ]
  },
  {
   "cell_type": "code",
   "execution_count": 98,
   "id": "95bd8ad6-fbfd-4468-bed3-7e0e89715450",
   "metadata": {},
   "outputs": [
    {
     "name": "stdout",
     "output_type": "stream",
     "text": [
      "I heard you were looking for Furniture ...\n",
      "None\n",
      "Is it a(an) Mattress ?\n",
      "None\n"
     ]
    }
   ],
   "source": [
    "import products_module\n",
    "\n",
    "from products_module import Product\n",
    "\n",
    "# Example Usage of the module (e.g., call a function from it)\n",
    "mattress = Product(\"Mattress\", 499.99, 1, \"Furniture\", \"A comfortable queen-sized mattress.\")\n",
    "desk = Product(\"Desk\", 199.99, 1, \"Furniture\", \"A wooden desk for home office use.\")\n",
    "\n",
    "print(products_module.greeting(\"Furniture\"))\n",
    "print(products_module.followup(\"Mattress\"))"
   ]
  },
  {
   "cell_type": "markdown",
   "id": "e36c0a58-9e8b-4826-90bf-43d5f7c1636a",
   "metadata": {},
   "source": [
    "## Re-naming a Module (ALIASING)"
   ]
  },
  {
   "cell_type": "code",
   "execution_count": 96,
   "id": "49c4c051-68c9-4f57-b5d4-435efd91646a",
   "metadata": {},
   "outputs": [
    {
     "name": "stdout",
     "output_type": "stream",
     "text": [
      "<products_module.Product object at 0x0000019D1B7A1850>\n",
      "I heard you were looking for Home Decor ...\n",
      "None\n",
      "Is it a(an) Rug ?\n",
      "None\n"
     ]
    }
   ],
   "source": [
    "## You can rename a module while importing it.\n",
    "import products_module as prd\n",
    "\n",
    "# Example Usage\n",
    "rug = prd.Product(\"Rug\", 149.99, 2, \"Home Decor\", \"A soft area rug for the living room.\")\n",
    "print(rug)\n",
    "print(prd.greeting(\"Home Decor\"))\n",
    "print(prd.followup(\"Rug\"))"
   ]
  },
  {
   "cell_type": "markdown",
   "id": "5d6399af-009a-452a-b704-6461506e56c5",
   "metadata": {},
   "source": [
    "## RegEx Module"
   ]
  },
  {
   "cell_type": "code",
   "execution_count": 44,
   "id": "1658801a-444e-4ef9-83d0-80bf7efa02a8",
   "metadata": {},
   "outputs": [
    {
     "name": "stdout",
     "output_type": "stream",
     "text": [
      "curtains\n"
     ]
    }
   ],
   "source": [
    "## You can use the re module for regular expressions to search product names.\n",
    "## Import the re module first\n",
    "\n",
    "import re\n",
    "\n",
    "def find_products_by_name(product_list, name_pattern):\n",
    "    matched_products = [product for product in product_list if re.search(name_pattern, product)]\n",
    "    return matched_products\n",
    "\n",
    "# Example Usage\n",
    "product_list = [\"broom\", \"iron\", \"coffee_maker\", \"curtains\", \"chair\"]\n",
    "matched = find_products_by_name(product_list, \"curtains|rug\")\n",
    "for product in matched:\n",
    "    print(product)\n"
   ]
  },
  {
   "cell_type": "code",
   "execution_count": 46,
   "id": "fd845e6a-0f3d-4d54-99d3-ebd2578c41e6",
   "metadata": {},
   "outputs": [
    {
     "name": "stdout",
     "output_type": "stream",
     "text": [
      "Correct match!\n"
     ]
    }
   ],
   "source": [
    "if matched:\n",
    "     print(\"Correct match!\")\n",
    "else:\n",
    "    print(\"Wrong product\")"
   ]
  },
  {
   "cell_type": "code",
   "execution_count": null,
   "id": "0310ad94-8777-4a12-b180-d497089b52a2",
   "metadata": {},
   "outputs": [],
   "source": []
  }
 ],
 "metadata": {
  "kernelspec": {
   "display_name": "Python 3 (ipykernel)",
   "language": "python",
   "name": "python3"
  },
  "language_info": {
   "codemirror_mode": {
    "name": "ipython",
    "version": 3
   },
   "file_extension": ".py",
   "mimetype": "text/x-python",
   "name": "python",
   "nbconvert_exporter": "python",
   "pygments_lexer": "ipython3",
   "version": "3.12.4"
  }
 },
 "nbformat": 4,
 "nbformat_minor": 5
}
